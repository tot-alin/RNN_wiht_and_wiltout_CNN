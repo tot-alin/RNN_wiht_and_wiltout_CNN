{
 "cells": [
  {
   "cell_type": "code",
   "execution_count": 1,
   "id": "f75eb7eb-d126-4c95-bd0e-e41ce5ccb9e6",
   "metadata": {},
   "outputs": [],
   "source": [
    "import os\n",
    "import urllib.request\n",
    "import os.path\n",
    "from os import path\n",
    "from zipfile import ZipFile\n",
    "from ipylab import JupyterFrontEnd"
   ]
  },
  {
   "cell_type": "code",
   "execution_count": 2,
   "id": "cd23c3ea-cb6f-44c0-87a7-4d645ba3712a",
   "metadata": {},
   "outputs": [],
   "source": [
    "def download_data():\n",
    "    if path.isfile('vegetable-image-dataset.zip') is False:\n",
    "        url = 'https://www.kaggle.com/api/v1/datasets/download/lakavathakshay/noctact-har'\n",
    "        filename = 'video-image-dataset.zip'\n",
    "        urllib.request.urlretrieve(url, filename)\n",
    "    \n",
    "    if path.isdir('modified_videos') is False:\n",
    "        with ZipFile('video-image-dataset.zip', 'r') as zip:\n",
    "            zip.extractall()\n",
    "\n",
    "download_data()"
   ]
  },
  {
   "cell_type": "code",
   "execution_count": 2,
   "id": "3b8959da-d072-4073-bbdd-8c102093dfde",
   "metadata": {},
   "outputs": [],
   "source": [
    "#reset the Jupyter kernel to clear memory\n",
    "app = JupyterFrontEnd()\n",
    "app.commands.execute('kernelmenu:restart')"
   ]
  },
  {
   "cell_type": "code",
   "execution_count": null,
   "id": "7d14d433-26b2-4b35-9c0d-41f9bb96e585",
   "metadata": {},
   "outputs": [],
   "source": []
  }
 ],
 "metadata": {
  "kernelspec": {
   "display_name": "Python 3 (ipykernel)",
   "language": "python",
   "name": "python3"
  },
  "language_info": {
   "codemirror_mode": {
    "name": "ipython",
    "version": 3
   },
   "file_extension": ".py",
   "mimetype": "text/x-python",
   "name": "python",
   "nbconvert_exporter": "python",
   "pygments_lexer": "ipython3",
   "version": "3.12.3"
  }
 },
 "nbformat": 4,
 "nbformat_minor": 5
}
